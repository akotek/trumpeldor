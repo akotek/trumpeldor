{
 "cells": [
  {
   "cell_type": "markdown",
   "metadata": {},
   "source": [
    "# Some tricks on TLV data-sets....\n",
    "## with.............Clojure!!"
   ]
  },
  {
   "cell_type": "code",
   "execution_count": 22,
   "metadata": {},
   "outputs": [
    {
     "data": {
      "text/plain": [
       ":init-done"
      ]
     },
     "execution_count": 22,
     "metadata": {},
     "output_type": "execute_result"
    }
   ],
   "source": [
    "; =================================\n",
    "(require '[clojupyter.misc.helper :as helper]\n",
    "         '[clojupyter.misc.display :as display])\n",
    "\n",
    "(helper/add-dependencies '[techascent/tech.ml \"3.00\"])\n",
    "(helper/add-dependencies '[scicloj/tablecloth \"1.0.0-pre-alpha9\"])\n",
    "(helper/add-dependencies '[metasoarous/oz \"1.6.0-alpha26\"])\n",
    "; =================================+\n",
    ":init-done"
   ]
  },
  {
   "cell_type": "code",
   "execution_count": 24,
   "metadata": {},
   "outputs": [
    {
     "name": "stderr",
     "output_type": "stream",
     "text": [
      "Execution error (IllegalArgumentException) at org.apache.poi.openxml4j.util.ZipArchiveThresholdInputStream/<init> (ZipArchiveThresholdInputStream.java:65).\n",
      "InputStream of class class org.apache.commons.compress.archivers.zip.ZipArchiveInputStream is not implementing InputStreamStatistics.\n"
     ]
    },
    {
     "ename": "class java.lang.IllegalArgumentException",
     "evalue": "",
     "output_type": "error",
     "traceback": [
      "ZipArchiveThresholdInputStream.java:    65 org.apache.poi.openxml4j.util.ZipArchiveThresholdInputStream/<init>",
      "                     ZipHelper.java:   178 org.apache.poi.openxml4j.opc.internal.ZipHelper/openZipStream",
      "                    ZipPackage.java:   104 org.apache.poi.openxml4j.opc.ZipPackage/<init>",
      "                    OPCPackage.java:   307 org.apache.poi.openxml4j.opc.OPCPackage/open",
      "                 PackageHelper.java:    47 org.apache.poi.ooxml.util.PackageHelper/open",
      "                  XSSFWorkbook.java:   309 org.apache.poi.xssf.usermodel.XSSFWorkbook/<init>",
      "                            poi.clj:   109 tech.libs.poi$input__GT_workbook/invokeStatic",
      "                            poi.clj:    99 tech.libs.poi$input__GT_workbook/invoke",
      "                            poi.clj:   131 tech.libs.poi$workbook__GT_datasets/invokeStatic",
      "                            poi.clj:   124 tech.libs.poi$workbook__GT_datasets/invoke",
      "                           Var.java:   388 clojure.lang.Var/invoke            ",
      "                           base.clj:   911 tech.ml.dataset.base$__GT_dataset$fn__32622/invoke",
      "                           base.clj:   780 tech.ml.dataset.base$wrap_stream_fn/invokeStatic",
      "                           base.clj:   773 tech.ml.dataset.base$wrap_stream_fn/invoke",
      "                           base.clj:   908 tech.ml.dataset.base$__GT_dataset/invokeStatic",
      "                           base.clj:   783 tech.ml.dataset.base$__GT_dataset/invoke",
      "                        dataset.clj:    55 tablecloth.api.dataset$dataset/invokeStatic",
      "                        dataset.clj:    30 tablecloth.api.dataset$dataset/invoke",
      "                           core.clj:  3214 clojure.core$eval/invokeStatic     ",
      "                           core.clj:  3210 clojure.core$eval/invoke           ",
      "                           main.clj:   437 clojure.main$repl$read_eval_print__9086$fn__9089/invoke",
      "                           main.clj:   458 clojure.main$repl$fn__9095/invoke  ",
      "                           main.clj:   368 clojure.main$repl/doInvoke         ",
      "                        RestFn.java:  1523 clojure.lang.RestFn/invoke         ",
      "                           AFn.java:    22 clojure.lang.AFn/run               ",
      "                           AFn.java:    22 clojure.lang.AFn/run               ",
      "                        Thread.java:   745 java.lang.Thread/run               "
     ]
    }
   ],
   "source": [
    "(require '[tablecloth.api :as api])\n",
    "(-> \"Dwelling Pivot 2010-2017.xlsx\"\n",
    "    (api/dataset {:key-fn keyword}))"
   ]
  },
  {
   "cell_type": "code",
   "execution_count": null,
   "metadata": {},
   "outputs": [],
   "source": []
  },
  {
   "cell_type": "code",
   "execution_count": null,
   "metadata": {},
   "outputs": [],
   "source": []
  }
 ],
 "metadata": {
  "kernelspec": {
   "display_name": "Clojure (clojupyter=0.3.2=1)",
   "language": "clojure",
   "name": "conda-clojupyter"
  },
  "language_info": {
   "file_extension": ".clj",
   "mimetype": "text/x-clojure",
   "name": "clojure",
   "version": "1.10.1"
  }
 },
 "nbformat": 4,
 "nbformat_minor": 4
}
